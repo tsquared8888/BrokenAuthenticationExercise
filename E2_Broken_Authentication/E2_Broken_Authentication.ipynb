{
 "cells": [
  {
   "cell_type": "markdown",
   "id": "funky-variety",
   "metadata": {},
   "source": [
    "# STAGE 2: BROKEN AUTHENTICATION\n",
    "\n",
    "## The server should be run on the terminal outside of this notebook using the command \"python /opt/Resources/S2/server/server.py\". If you run into errors, run \"pip install tornado\" and \"pip install tornado-http-auth\" and then try again.\n",
    "\n",
    "### Overview:\n",
    "\n",
    "Broken authentication is gaining access to a user's account by inputting the most common passwords. This stage will introduce you to broken authentication, which requires you to write a client script that brute forces its way into a user's account by attempting every password in a given list of passwords.\n",
    "      \n",
    "### Outcomes:\n",
    "\n",
    "Upon completion of this stage, you should gain the following:\n",
    "- Know how to perform a Broken Authentication attack\n",
    "- An understanding of how basic http auth works\n",
    "- Knowledge of how parameters in a URL work\n",
    "\n",
    "### Goal:\n",
    "\n",
    "Get a hold of the secret phrase.\n",
    "\n",
    "To reach the secret phrase, there are several steps you must complete. The basic steps are below:\n",
    "1. Gain access to the user's account by writing a script that loops through all passwords, attempting each one as the login. The username is \"user\", and the list of passwords is stored in either a file called \"possible_pws.txt\" or a file provided by your professor.\n",
    "2. Use the token after logging in to gain access to the secret phrase.\n",
    "3. Insert the secret phrase in the input of the last cell. This will also be the answer to one of the questions you need to complete on the lab paper.\n",
    "\n",
    "### Hints:\n",
    "\n",
    "Step 1: First, you will want to get all the passwords from the text file into some sort of list. From there, use a loop to test each password. This can be done with the \"requests.get()\" function given the correct parameters.\n",
    "\n",
    "Step 2: This one requires the use of a parameter in the url. You should add a question mark as well as a \"token\" parameter to the end of the url. Setting the token equal to the correct value will take you to the secret phrase.\n",
    "\n",
    "### How to Begin:\n",
    "\n",
    "First, you will need to install some python libraries. To do this, <b>use the commands pip install tornado</b> and <b>pip install tornado-http-auth</b>. Next you will want to <b>run the server from your own terminal using the command \"python /opt/Resources/S2/server/server.py\"</b>. Everything else will be done within Jupyter Notebook. You should also <b>run the cell directly below this one</b> to generate a password for yourself."
   ]
  },
  {
   "cell_type": "code",
   "execution_count": 1,
   "id": "hollywood-cache",
   "metadata": {
    "scrolled": false
   },
   "outputs": [],
   "source": [
    "{\n",
    "    \"tags\": [\n",
    "        \"hide-cell\",\n",
    "    ]\n",
    "}\n",
    "%run /opt/Resources/S2/py_kernel/pw_generator.py"
   ]
  },
  {
   "cell_type": "markdown",
   "id": "97114083",
   "metadata": {},
   "source": [
    "To gain access to the user's account, you will want to use the [user login](http://localhost:8080/user/login) link. After you grab the token from a successful login, access the secret phrase at this [token link](http://localhost:8080/token). Lastly, any code you write should be written in the cell below. If the links aren't working, make sure you are running the server. If you are still unsure on how to start, more detailed instructions can be found in the lab document."
   ]
  },
  {
   "cell_type": "markdown",
   "id": "hollow-static",
   "metadata": {},
   "source": [
    "### Type in your code below:"
   ]
  },
  {
   "cell_type": "code",
   "execution_count": 4,
   "id": "sporting-maintenance",
   "metadata": {},
   "outputs": [],
   "source": [
    "import requests"
   ]
  },
  {
   "cell_type": "markdown",
   "id": "understood-gothic",
   "metadata": {},
   "source": [
    "### Run the cell below, then type in the secret phrase in the prompt:"
   ]
  },
  {
   "cell_type": "code",
   "execution_count": null,
   "id": "federal-encyclopedia",
   "metadata": {
    "scrolled": true
   },
   "outputs": [
    {
     "name": "stdout",
     "output_type": "stream",
     "text": [
      "sample\n",
      "Incorrect phrase. Try again.\n"
     ]
    }
   ],
   "source": [
    "{\n",
    "    \"tags\": [\n",
    "        \"hide-cell\",\n",
    "    ]\n",
    "}\n",
    "%run /opt/Resources/S2/py_kernel/phrase_check.py"
   ]
  }
 ],
 "metadata": {
  "kernelspec": {
   "display_name": "Python 3",
   "language": "python",
   "name": "python3"
  },
  "language_info": {
   "codemirror_mode": {
    "name": "ipython",
    "version": 3
   },
   "file_extension": ".py",
   "mimetype": "text/x-python",
   "name": "python",
   "nbconvert_exporter": "python",
   "pygments_lexer": "ipython3",
   "version": "3.6.9"
  }
 },
 "nbformat": 4,
 "nbformat_minor": 5
}
